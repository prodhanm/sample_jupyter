{
 "cells": [
  {
   "cell_type": "markdown",
   "id": "97cfa202",
   "metadata": {},
   "source": [
    "Creation of a list!"
   ]
  },
  {
   "cell_type": "code",
   "execution_count": 4,
   "id": "b8da4513",
   "metadata": {},
   "outputs": [
    {
     "name": "stdout",
     "output_type": "stream",
     "text": [
      "list_1 contains the following names: ['Mustafa', 'Sabina', 'Jarir', 'Aridh']\n"
     ]
    }
   ],
   "source": [
    "list_1 = [\"Mustafa\", \"Sabina\", \"Jarir\", \"Aridh\"]\n",
    "print (f\"list_1 contains the following names: {list_1[0::]}\")"
   ]
  },
  {
   "cell_type": "markdown",
   "id": "fb70b2e5",
   "metadata": {},
   "source": [
    "Run a for loop to get the list of names."
   ]
  },
  {
   "cell_type": "code",
   "execution_count": 5,
   "id": "265bc90e",
   "metadata": {},
   "outputs": [
    {
     "name": "stdout",
     "output_type": "stream",
     "text": [
      "Mustafa\n",
      "Sabina\n",
      "Jarir\n",
      "Aridh\n"
     ]
    }
   ],
   "source": [
    "for name in list_1: \n",
    "    print(name)"
   ]
  },
  {
   "cell_type": "code",
   "execution_count": 9,
   "id": "7b910e15",
   "metadata": {},
   "outputs": [
    {
     "name": "stdout",
     "output_type": "stream",
     "text": [
      "My name is Mustafa\n"
     ]
    }
   ],
   "source": [
    "print(f\"My name is {list_1[0]}\")"
   ]
  },
  {
   "cell_type": "code",
   "execution_count": 10,
   "id": "ee28a643",
   "metadata": {},
   "outputs": [
    {
     "name": "stdout",
     "output_type": "stream",
     "text": [
      "My name is Sabina\n"
     ]
    }
   ],
   "source": [
    "print(f\"My name is {list_1[1]}\")"
   ]
  },
  {
   "cell_type": "code",
   "execution_count": 11,
   "id": "2d84c45d",
   "metadata": {},
   "outputs": [
    {
     "name": "stdout",
     "output_type": "stream",
     "text": [
      "My name is Jarir\n"
     ]
    }
   ],
   "source": [
    "print(f\"My name is {list_1[2]}\")"
   ]
  },
  {
   "cell_type": "code",
   "execution_count": 12,
   "id": "e35f5e4d",
   "metadata": {},
   "outputs": [
    {
     "name": "stdout",
     "output_type": "stream",
     "text": [
      "My name is Aridh\n"
     ]
    }
   ],
   "source": [
    "print(f\"My name is {list_1[3]}\")"
   ]
  },
  {
   "cell_type": "markdown",
   "id": "af89dc98",
   "metadata": {},
   "source": [
    "Slice a sentence."
   ]
  },
  {
   "cell_type": "code",
   "execution_count": 14,
   "id": "68500a0f",
   "metadata": {
    "scrolled": true
   },
   "outputs": [
    {
     "name": "stdout",
     "output_type": "stream",
     "text": [
      "sent_1_split = ['Welcome', 'to', 'the', 'python', 'course!']\n"
     ]
    }
   ],
   "source": [
    "sent_1 = \"Welcome to the python course!\"\n",
    "sent_1_split = sent_1.split()\n",
    "print(f\"sent_1_split = {sent_1_split}\")"
   ]
  },
  {
   "cell_type": "code",
   "execution_count": 3,
   "id": "8066acdd",
   "metadata": {},
   "outputs": [
    {
     "name": "stdout",
     "output_type": "stream",
     "text": [
      "Welcome Jarir, to, the python course!.\n"
     ]
    }
   ],
   "source": [
    "list_1 = [\"Mustafa\", \"Sabina\", \"Jarir\", \"Aridh\"]\n",
    "sent_1_split = ['Welcome', 'to', 'the', 'python', 'course!']\n",
    "\n",
    "print(f\"{sent_1_split[0]} {list_1[2]}, {sent_1_split[1]}, {sent_1_split[2]} {sent_1_split[3]} {sent_1_split[4]}.\")"
   ]
  },
  {
   "cell_type": "code",
   "execution_count": null,
   "id": "4fa8194c",
   "metadata": {},
   "outputs": [],
   "source": []
  }
 ],
 "metadata": {
  "kernelspec": {
   "display_name": "Python 3 (ipykernel)",
   "language": "python",
   "name": "python3"
  },
  "language_info": {
   "codemirror_mode": {
    "name": "ipython",
    "version": 3
   },
   "file_extension": ".py",
   "mimetype": "text/x-python",
   "name": "python",
   "nbconvert_exporter": "python",
   "pygments_lexer": "ipython3",
   "version": "3.11.1"
  }
 },
 "nbformat": 4,
 "nbformat_minor": 5
}
