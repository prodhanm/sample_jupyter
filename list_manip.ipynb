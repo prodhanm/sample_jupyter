{
 "cells": [
  {
   "cell_type": "markdown",
   "id": "97cfa202",
   "metadata": {},
   "source": [
    "Creation of a list!"
   ]
  },
  {
   "cell_type": "code",
   "execution_count": 4,
   "id": "b8da4513",
   "metadata": {},
   "outputs": [
    {
     "name": "stdout",
     "output_type": "stream",
     "text": [
      "list_1 contains the following names: ['Mustafa', 'Sabina', 'Jarir', 'Aridh']\n"
     ]
    }
   ],
   "source": [
    "list_1 = [\"Mustafa\", \"Sabina\", \"Jarir\", \"Aridh\"]\n",
    "print (f\"list_1 contains the following names: {list_1[0::]}\")"
   ]
  },
  {
   "cell_type": "markdown",
   "id": "fb70b2e5",
   "metadata": {},
   "source": [
    "Run a for loop to get the list of names."
   ]
  },
  {
   "cell_type": "code",
   "execution_count": 5,
   "id": "265bc90e",
   "metadata": {},
   "outputs": [
    {
     "name": "stdout",
     "output_type": "stream",
     "text": [
      "Mustafa\n",
      "Sabina\n",
      "Jarir\n",
      "Aridh\n"
     ]
    }
   ],
   "source": [
    "for name in list_1: \n",
    "    print(name)"
   ]
  },
  {
   "cell_type": "code",
   "execution_count": 9,
   "id": "7b910e15",
   "metadata": {},
   "outputs": [
    {
     "name": "stdout",
     "output_type": "stream",
     "text": [
      "My name is Mustafa\n"
     ]
    }
   ],
   "source": [
    "print(f\"My name is {list_1[0]}\")"
   ]
  },
  {
   "cell_type": "code",
   "execution_count": 10,
   "id": "ee28a643",
   "metadata": {},
   "outputs": [
    {
     "name": "stdout",
     "output_type": "stream",
     "text": [
      "My name is Sabina\n"
     ]
    }
   ],
   "source": [
    "print(f\"My name is {list_1[1]}\")"
   ]
  },
  {
   "cell_type": "code",
   "execution_count": 11,
   "id": "2d84c45d",
   "metadata": {},
   "outputs": [
    {
     "name": "stdout",
     "output_type": "stream",
     "text": [
      "My name is Jarir\n"
     ]
    }
   ],
   "source": [
    "print(f\"My name is {list_1[2]}\")"
   ]
  },
  {
   "cell_type": "code",
   "execution_count": 12,
   "id": "e35f5e4d",
   "metadata": {},
   "outputs": [
    {
     "name": "stdout",
     "output_type": "stream",
     "text": [
      "My name is Aridh\n"
     ]
    }
   ],
   "source": [
    "print(f\"My name is {list_1[3]}\")"
   ]
  },
  {
   "cell_type": "markdown",
   "id": "af89dc98",
   "metadata": {},
   "source": [
    "Slice a sentence."
   ]
  },
  {
   "cell_type": "code",
   "execution_count": 14,
   "id": "68500a0f",
   "metadata": {},
   "outputs": [
    {
     "name": "stdout",
     "output_type": "stream",
     "text": [
      "sent_1_split = ['Welcome', 'to', 'the', 'python', 'course!']\n"
     ]
    }
   ],
   "source": [
    "sent_1 = \"Welcome to the python course!\"\n",
    "sent_1_split = sent_1.split()\n",
    "print(f\"sent_1_split = {sent_1_split}\")"
   ]
  },
  {
   "cell_type": "code",
   "execution_count": 2,
   "id": "8066acdd",
   "metadata": {},
   "outputs": [
    {
     "ename": "NameError",
     "evalue": "name 'sent_1_split' is not defined",
     "output_type": "error",
     "traceback": [
      "\u001b[0;31m---------------------------------------------------------------------------\u001b[0m",
      "\u001b[0;31mNameError\u001b[0m                                 Traceback (most recent call last)",
      "Cell \u001b[0;32mIn[2], line 1\u001b[0m\n\u001b[0;32m----> 1\u001b[0m \u001b[38;5;28mprint\u001b[39m(\u001b[38;5;124mf\u001b[39m\u001b[38;5;124m\"\u001b[39m\u001b[38;5;132;01m{\u001b[39;00m\u001b[43msent_1_split\u001b[49m[\u001b[38;5;241m0\u001b[39m]\u001b[38;5;132;01m}\u001b[39;00m\u001b[38;5;124m, my name is \u001b[39m\u001b[38;5;132;01m{\u001b[39;00mlist_1[\u001b[38;5;241m0\u001b[39m]\u001b[38;5;132;01m}\u001b[39;00m\u001b[38;5;124m. Step in \u001b[39m\u001b[38;5;132;01m{\u001b[39;00msent_1_split[\u001b[38;5;241m1\u001b[39m]\u001b[38;5;132;01m}\u001b[39;00m\u001b[38;5;124m \u001b[39m\u001b[38;5;132;01m{\u001b[39;00msent_1_split[\u001b[38;5;241m2\u001b[39m]\u001b[38;5;132;01m}\u001b[39;00m\u001b[38;5;124m \u001b[39m\u001b[38;5;132;01m{\u001b[39;00msent_1_split[\u001b[38;5;241m3\u001b[39m]\u001b[38;5;132;01m}\u001b[39;00m\u001b[38;5;124m \u001b[39m\u001b[38;5;132;01m{\u001b[39;00msent_1_split[\u001b[38;5;241m4\u001b[39m]\u001b[38;5;132;01m}\u001b[39;00m\u001b[38;5;124m!\u001b[39m\u001b[38;5;124m\"\u001b[39m)\n",
      "\u001b[0;31mNameError\u001b[0m: name 'sent_1_split' is not defined"
     ]
    }
   ],
   "source": [
    "print(f\"{sent_1_split[0]}, my name is {list_1[0]}. Step in {sent_1_split[1]} {sent_1_split[2]} {sent_1_split[3]} {sent_1_split[4]}!\")"
   ]
  },
  {
   "cell_type": "code",
   "execution_count": null,
   "id": "4fa8194c",
   "metadata": {},
   "outputs": [],
   "source": []
  }
 ],
 "metadata": {
  "kernelspec": {
   "display_name": "Python 3 (ipykernel)",
   "language": "python",
   "name": "python3"
  },
  "language_info": {
   "codemirror_mode": {
    "name": "ipython",
    "version": 3
   },
   "file_extension": ".py",
   "mimetype": "text/x-python",
   "name": "python",
   "nbconvert_exporter": "python",
   "pygments_lexer": "ipython3",
   "version": "3.11.1"
  }
 },
 "nbformat": 4,
 "nbformat_minor": 5
}
