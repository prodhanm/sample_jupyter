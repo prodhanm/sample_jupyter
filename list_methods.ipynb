{
 "cells": [
  {
   "cell_type": "code",
   "execution_count": 5,
   "id": "a5fceb19",
   "metadata": {},
   "outputs": [
    {
     "name": "stdout",
     "output_type": "stream",
     "text": [
      "['Federation', 'Klingon', 'Romulans', 'Cardassians', 'Ferengi', 'Breen', 'Dominion', 'Borg']\n",
      "Federation\n",
      "Klingon\n",
      "Romulans\n",
      "Cardassians\n",
      "Ferengi\n",
      "Breen\n",
      "Dominion\n",
      "Borg\n"
     ]
    }
   ],
   "source": [
    "star_trek = [\"Federation\", \"Klingon\", \"Romulans\", \"Cardassians\", \"Ferengi\", \"Breen\", \"Dominion\", \"Borg\"]\n",
    "star_wars = [\"Galactic\", \"Rebels\", \"Wookies\", \"Jawas\", \"Mandalorians\", \"Sith\", \"Jedi\"]\n",
    "phrase = \"I love watching DC Comics Series, cause they are awesome!\"\n",
    "\n",
    "# Print a list of the star trek spicies.\n",
    "\n",
    "print(star_trek)\n",
    "\n",
    "# Use a for loop to print the list individually\n",
    "\n",
    "for species in star_trek:\n",
    "    print(species)"
   ]
  },
  {
   "cell_type": "code",
   "execution_count": null,
   "id": "49c0affc",
   "metadata": {},
   "outputs": [],
   "source": []
  },
  {
   "cell_type": "code",
   "execution_count": null,
   "id": "9b3c32bb",
   "metadata": {},
   "outputs": [],
   "source": []
  }
 ],
 "metadata": {
  "kernelspec": {
   "display_name": "Python 3 (ipykernel)",
   "language": "python",
   "name": "python3"
  },
  "language_info": {
   "codemirror_mode": {
    "name": "ipython",
    "version": 3
   },
   "file_extension": ".py",
   "mimetype": "text/x-python",
   "name": "python",
   "nbconvert_exporter": "python",
   "pygments_lexer": "ipython3",
   "version": "3.11.1"
  }
 },
 "nbformat": 4,
 "nbformat_minor": 5
}
