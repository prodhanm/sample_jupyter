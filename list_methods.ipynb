{
 "cells": [
  {
   "cell_type": "code",
   "execution_count": 15,
   "id": "bd78f11d",
   "metadata": {},
   "outputs": [
    {
     "name": "stdout",
     "output_type": "stream",
     "text": [
      "['Federation', 'Klingon', 'Romulans', 'Cardassians', 'Ferengi', 'Breen', 'Dominion', 'Borg']\n",
      "Federation\n",
      "Klingon\n",
      "Romulans\n",
      "Cardassians\n",
      "Ferengi\n",
      "Breen\n",
      "Dominion\n",
      "Borg\n",
      "Phrase_list = ['I', 'love', 'watching', 'DC', 'Comics', 'Series,', 'cause', 'they', 'are', 'awesome!']\n",
      "The phrase is re-phrased to 'I|love|watching|DC|Comics|Series,|cause|they|are|awesome!'\n",
      "The phrase is Galactic#Rebels#Wookies#Jawas#Mandalorians#Sith#Jedi.\n"
     ]
    }
   ],
   "source": [
    "star_trek = [\"Federation\", \"Klingon\", \"Romulans\", \"Cardassians\", \"Ferengi\", \"Breen\", \"Dominion\", \"Borg\"]\n",
    "star_wars = [\"Galactic\", \"Rebels\", \"Wookies\", \"Jawas\", \"Mandalorians\", \"Sith\", \"Jedi\"]\n",
    "phrase = \"I love watching DC Comics Series, cause they are awesome!\"\n",
    "\n",
    "# Print a list of the star trek spicies.\n",
    "\n",
    "print(star_trek)\n",
    "\n",
    "# Use a for loop to print the list individually\n",
    "\n",
    "for species in star_trek:\n",
    "    print(species)\n",
    "    \n",
    "# Display a list of words from phrases\n",
    "\n",
    "phrase_list = phrase.split()\n",
    "print(f\"Phrase_list = {phrase_list}\")\n",
    "\n",
    "# Display Star Trek species as string separated by \"|\"\n",
    "re_phrase = (\"|\").join(phrase_list)\n",
    "print(f\"The phrase is re-phrased to '{re_phrase}'\")\n",
    "\n",
    "''' \n",
    "Display a # seperated value on teh star_wars list \n",
    "\n",
    "for star in star_wars:\n",
    "    phrase2 = ('#').join(star_wars)\n",
    "print(f\"The phrase is {phrase2}.\")"
   ]
  },
  {
   "cell_type": "code",
   "execution_count": null,
   "id": "f07dcd51",
   "metadata": {},
   "outputs": [],
   "source": []
  },
  {
   "cell_type": "code",
   "execution_count": null,
   "id": "d8aea747",
   "metadata": {},
   "outputs": [],
   "source": []
  }
 ],
 "metadata": {
  "kernelspec": {
   "display_name": "Python 3 (ipykernel)",
   "language": "python",
   "name": "python3"
  },
  "language_info": {
   "codemirror_mode": {
    "name": "ipython",
    "version": 3
   },
   "file_extension": ".py",
   "mimetype": "text/x-python",
   "name": "python",
   "nbconvert_exporter": "python",
   "pygments_lexer": "ipython3",
   "version": "3.11.1"
  }
 },
 "nbformat": 4,
 "nbformat_minor": 5
}
